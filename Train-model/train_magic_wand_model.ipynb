{
  "cells": [
    {
      "cell_type": "markdown",
      "metadata": {
        "id": "1BtkMGSYQOTQ"
      },
      "source": [
        "# Train a gesture recognition model for microcontroller (ESP32)"
      ]
    },
    {
      "cell_type": "markdown",
      "source": [
        "* clones the “Harry_Potter” repository from GitHub using the Git command-line tool.\n",
        "\n",
        "\n",
        "\n",
        "\n",
        "\n"
      ],
      "metadata": {
        "id": "KGiz84_Mz01J"
      }
    },
    {
      "cell_type": "code",
      "execution_count": null,
      "metadata": {
        "id": "ygkWw73dRNda"
      },
      "outputs": [],
      "source": [
        "# Clone the repository from GitHub\n",
        "!git clone --depth 1 -q https://github.com/RAref/Harry_Potter"
      ]
    },
    {
      "cell_type": "markdown",
      "source": [
        "* The provided code is to unzip a file named data.zip into a directory called train. This process extracts the data contained within the zip file and places it in the google colab content directory.\n"
      ],
      "metadata": {
        "id": "Ib-wxzrR-AEF"
      }
    },
    {
      "cell_type": "code",
      "execution_count": null,
      "metadata": {
        "id": "W2Sg2AKzVr2L"
      },
      "outputs": [],
      "source": [
        "# Extract the data into the train directory\n",
        "!unzip  Harry_Potter/data/data.zip -d train"
      ]
    },
    {
      "cell_type": "markdown",
      "source": [
        "1. Data Preparation:\n",
        " -  The script reads gesture data from various files and organizes it into a structured format.\n",
        " - It creates a DataFrame (df) with columns for gesture labels, participant names, and accelerometer data (X, Y, and Z).\n",
        " - Negative samples are generated if there are not enough available.\n",
        " - The combined dataset includes data from different folders and individuals.\n",
        "\n",
        "2. Visualization:\n",
        " - The code uses Seaborn to create scatter plots for each gesture label (wing, ring, slope) and participant name.\n",
        " - The X-axis represents time (t), and the Y-axes represent accelerometer data (X, Y, and Z).\n",
        " - These plots are displayed for visual analysis to understand how different gestures are recorded by various people.\n"
      ],
      "metadata": {
        "id": "f-JAu7Br_PxG"
      }
    },
    {
      "cell_type": "code",
      "source": [
        "# The scripts must be run from within the train directory\n",
        "%cd train\n",
        "# Plot the data\n",
        "import matplotlib.pyplot as plt\n",
        "import pandas as pd\n",
        "import seaborn as sb\n",
        "import numpy as np\n",
        "import math\n",
        "from data_prepare import prepare_original_data\n",
        "from data_prepare import generate_negative_data\n",
        "\n",
        "LABEL_NAME = \"gesture\"\n",
        "DATA_NAME = \"accel_ms2_xyz\"\n",
        "# You Can Add Your new Magic here!\n",
        "folders = [\"wing\", \"zed\",]\n",
        "# Dont Forget To Add Your txt Magic File name here.\n",
        "names = [\n",
        "    \"stefan\",\n",
        "    \"patrick\",\n",
        "    \"justin\",\n",
        "    \"yeongmi\"\n",
        "    \"arthur\",\n",
        "    \"kai\",\n",
        "    \"nico\",\n",
        "    \"filip\",\n",
        "    \"lukas\",\n",
        "    \"peter\",\n",
        "    \"A\" ,\n",
        "    \"B\" ,\n",
        "    \"C\" ,\n",
        "    \"D\",\n",
        "    \"E\" ,\n",
        "    \"F\",\n",
        "    \"G\",\n",
        "    \"H\"\n",
        "\n",
        "]\n",
        "\n",
        "data = []  # pylint: disable=redefined-outer-name\n",
        "for idx1, folder in enumerate(folders):\n",
        "  for idx2, name in enumerate(names):\n",
        "    prepare_original_data(folder, name, data,\n",
        "                          \"./data/%s/output_%s_%s.txt\" % (folder, folder, name))\n",
        "n_gestures = len(data)\n",
        "for idx, name in enumerate(names):\n",
        "  prepare_original_data(\"negative\", name, data,\n",
        "                        \"./data/negative/output_negative_%s.txt\" % (name))\n",
        "n_negative = len(data) - n_gestures\n",
        "folders.append(\"negative\")\n",
        "\n",
        "# if there are more than 10% more gesture samples per gesture as negative samples, generate additional negative\n",
        "# samples\n",
        "if n_gestures - n_negative * len(folders) > n_gestures/len(folders) * 0.1:\n",
        "  print(\"not enough negative samples available, creating random data samples\")\n",
        "  generate_negative_data(data, (math.ceil(n_gestures/len(folders)) - n_negative))\n",
        "n_negative = len(data) - n_gestures\n",
        "\n",
        "columns = [LABEL_NAME, \"name\", DATA_NAME]\n",
        "df = pd.DataFrame(data, columns=columns)\n",
        "\n",
        "df_gesture_data = pd.DataFrame()\n",
        "for folder in folders:\n",
        "  for row in df.loc[df[LABEL_NAME] == folder].iterrows():\n",
        "    tmp_data = np.array(row[1][DATA_NAME])\n",
        "    df_tmp = pd.DataFrame({\n",
        "      \"name\": np.full(len(tmp_data), row[1][\"name\"]),\n",
        "      LABEL_NAME: np.full(len(tmp_data), folder),\n",
        "      \"t\": range(len(tmp_data)),\n",
        "      \"X\": tmp_data[:, 0],\n",
        "      \"Y\": tmp_data[:, 1],\n",
        "      \"Z\": tmp_data[:, 2]\n",
        "      })\n",
        "    df_gesture_data = pd.concat([df_gesture_data, df_tmp], ignore_index=True)\n",
        "\n",
        "\n",
        "grid_X = sb.FacetGrid(df_gesture_data, col = LABEL_NAME, hue = \"name\", col_wrap=len(names))\n",
        "grid_X.map(sb.scatterplot, \"t\", \"X\")\n",
        "grid_X.add_legend()\n",
        "grid_Y = sb.FacetGrid(df_gesture_data, col = LABEL_NAME, hue = \"name\", col_wrap=len(names))\n",
        "grid_Y.map(sb.scatterplot, \"t\", \"Y\")\n",
        "grid_Y.add_legend()\n",
        "grid_Z = sb.FacetGrid(df_gesture_data, col = LABEL_NAME, hue = \"name\", col_wrap=len(names))\n",
        "grid_Z.map(sb.scatterplot, \"t\", \"Z\")\n",
        "grid_Z.add_legend()\n",
        "\n",
        "plt.show()"
      ],
      "metadata": {
        "id": "ds-mz2e_QVeA"
      },
      "execution_count": null,
      "outputs": []
    },
    {
      "cell_type": "markdown",
      "source": [
        "#You Should Change A little bit these Two Python files to Add new Magic!.\n",
        "1. Data Preparation:\n",
        " - The script data_prepare.py processes raw gesture data collected from a sensor. It organizes the data, performs necessary preprocessing, and prepares it for analysis or model training.\n",
        "2. Data Splitting:\n",
        " - The script data_split.py handles splitting the data. Since only one person's data is available, it performs random splitting to create separate subsets for training, validation, and testing, ensuring better model generalization.\n",
        "\n"
      ],
      "metadata": {
        "id": "veH4LIL7Eupy"
      }
    },
    {
      "cell_type": "code",
      "execution_count": null,
      "metadata": {
        "id": "XBqSVpi6Vxss"
      },
      "outputs": [],
      "source": [
        "# Prepare the data\n",
        "!python data_prepare.py\n",
        "!python data_split.py"
      ]
    },
    {
      "cell_type": "markdown",
      "source": [
        "* Model Training\n",
        "#You Must Change The Train.py Source file for Model implemenatation and Traning Phase.#\n"
      ],
      "metadata": {
        "id": "pQmNC0wvMUJ1"
      }
    },
    {
      "cell_type": "code",
      "execution_count": null,
      "metadata": {
        "id": "DXmQZgbuWQFO"
      },
      "outputs": [],
      "source": [
        "!python train.py --model CNN"
      ]
    },
    {
      "cell_type": "markdown",
      "metadata": {
        "id": "4gXbVzcXhvGD"
      },
      "source": [
        "## Create a C or h source file\n",
        "\n",
        "The `train.py` script writes a model, `model.tflite`, to the training scripts' directory.\n",
        "\n",
        "In the following cell, we convert this model into a C++ source file we can use with TensorFlow Lite for Microcontrollers."
      ]
    },
    {
      "cell_type": "code",
      "execution_count": null,
      "metadata": {
        "id": "8wgei4OGe3Nz"
      },
      "outputs": [],
      "source": [
        "# Install xxd if it is not available\n",
        "!apt-get -qq install xxd\n",
        "# Save the file as a C or h source file\n",
        "!xxd -i model.tflite > /content/model.h\n",
        "# Print the source file\n",
        "!cat /content/model.h"
      ]
    }
  ],
  "metadata": {
    "accelerator": "GPU",
    "colab": {
      "provenance": []
    },
    "kernelspec": {
      "display_name": "Python 3",
      "name": "python3"
    }
  },
  "nbformat": 4,
  "nbformat_minor": 0
}